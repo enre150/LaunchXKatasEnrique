{
 "cells": [
  {
   "cell_type": "markdown",
   "metadata": {},
   "source": [
    "# Ejercicio - Escribir declaraciones if, else, y elif"
   ]
  },
  {
   "cell_type": "code",
   "execution_count": 7,
   "metadata": {},
   "outputs": [
    {
     "name": "stdout",
     "output_type": "stream",
     "text": [
      "advertencia si un asteroide se acerca a la Tierra demasiado rápido\n"
     ]
    }
   ],
   "source": [
    "asteroideVelocidad=49\n",
    "if asteroideVelocidad>25:\n",
    "    print(\"advertencia si un asteroide se acerca a la Tierra demasiado rápido\")\n",
    "else:\n",
    "    print(\"un asteroide viene a: \"+str(asteroideVelocidad))"
   ]
  },
  {
   "cell_type": "code",
   "execution_count": 8,
   "metadata": {},
   "outputs": [
    {
     "name": "stdout",
     "output_type": "stream",
     "text": [
      "Hay un asteroide en el cielo pero no se vera un rayo de luz\n"
     ]
    }
   ],
   "source": [
    "asteroideVelocidad=19\n",
    "if asteroideVelocidad>20:\n",
    "    print(\"¡Hay uno que se dirige a la tierra ahora a una velocidad de 19 km/s!\")\n",
    "elif asteroideVelocidad==20:\n",
    "    print(\"un asteroide con posibilidad e ver un rayo de luz\")\n",
    "else:\n",
    "    print(\"Hay un asteroide en el cielo pero no se vera un rayo de luz\")\n"
   ]
  },
  {
   "cell_type": "markdown",
   "metadata": {},
   "source": [
    "# Uso de operadores and y or"
   ]
  },
  {
   "cell_type": "code",
   "execution_count": 18,
   "metadata": {},
   "outputs": [
    {
     "name": "stdout",
     "output_type": "stream",
     "text": [
      "una asteriode de tamaño 0 y velocidad 20  se quemarán a medida que entren en la atmósfera de la Tierra\n"
     ]
    }
   ],
   "source": [
    "AsTam=0\n",
    "asteroideVelocidad=20\n",
    "if AsTam>25 and asteroideVelocidad>25:\n",
    "    print(\"una asteriode de tamaño \"+ str(AsTam) +\" y velocidad \"+str(asteroideVelocidad)+\" impactara la tierra, peligro inminente cuidado!!!!\")\n",
    "elif AsTam<=25:\n",
    "    print(\"una asteriode de tamaño \"+str(AsTam)+\" y velocidad \"+str(asteroideVelocidad)+\"  se quemarán a medida que entren en la atmósfera de la Tierra\")\n",
    "elif asteroideVelocidad>=20:\n",
    "    print(\"Un destello del asteroide se vera\")\n",
    "else:\n",
    "    print(\"Un asteroide mayor de 25metros entrara a la tierra cuidado!!, su velocidad es menor a 20 km no se vera destello :c\")"
   ]
  },
  {
   "cell_type": "code",
   "execution_count": null,
   "metadata": {},
   "outputs": [],
   "source": []
  }
 ],
 "metadata": {
  "interpreter": {
   "hash": "0e6a929ee0e80078295df8e5f36f1f50a9bb53e16ae7f6f07310e20e80adb355"
  },
  "kernelspec": {
   "display_name": "Python 3.9.5 ('base')",
   "language": "python",
   "name": "python3"
  },
  "language_info": {
   "codemirror_mode": {
    "name": "ipython",
    "version": 3
   },
   "file_extension": ".py",
   "mimetype": "text/x-python",
   "name": "python",
   "nbconvert_exporter": "python",
   "pygments_lexer": "ipython3",
   "version": "3.9.5"
  },
  "orig_nbformat": 4
 },
 "nbformat": 4,
 "nbformat_minor": 2
}
