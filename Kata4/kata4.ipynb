{
 "cells": [
  {
   "cell_type": "markdown",
   "metadata": {},
   "source": [
    "# Ejercicio 1: Transformar cadenas\n",
    "\n",
    "texto a trabajar"
   ]
  },
  {
   "cell_type": "code",
   "execution_count": 3,
   "metadata": {},
   "outputs": [
    {
     "name": "stdout",
     "output_type": "stream",
     "text": [
      "['Interesting facts about the Moon', \" The Moon is Earth's only satellite\", ' There are several interesting facts about the Moon and how it affects life here on Earth', '\\nOn average, the Moon moves 4cm away from the Earth every year', ' This yearly drift is not significant enough to cause immediate effects on Earth', ' The highest daylight temperature of the Moon is 127 C', '']\n",
      " The Moon is Earth's only satellite\n",
      " The Moon is Earth's only satellite\n",
      " There are several interesting facts about the Moon and how it affects life here on Earth\n",
      " There are several interesting facts about the Moon and how it affects life here on Earth\n",
      " This yearly drift is not significant enough to cause immediate effects on Earth\n",
      " This yearly drift is not significant enough to cause immediate effects on Earth\n",
      " The highest daylight temperature of the Moon is 127 C\n",
      " The highest daylight temperature of the Moon is 127 celsius\n"
     ]
    }
   ],
   "source": [
    "text =\"\"\"Interesting facts about the Moon. The Moon is Earth's only satellite. There are several interesting facts about the Moon and how it affects life here on Earth.\n",
    "On average, the Moon moves 4cm away from the Earth every year. This yearly drift is not significant enough to cause immediate effects on Earth. The highest daylight temperature of the Moon is 127 C.\"\"\"\n",
    "# Añade el código necesario dividir texto\n",
    "text1 =text.split('.')\n",
    "print(text1)\n",
    "# Define las palabras pista: average, temperature y distance suenan bien\n",
    "clave=[\"averange\", \"temperatura\", \"distance\"]\n",
    "# Ciclo for para recorrer la cadena y cambiar C a Celsius\n",
    "for parrafo in text1:\n",
    "    for clave in clave:\n",
    "        if clave in parrafo:\n",
    "            print(parrafo)\n",
    "            print(parrafo.replace('C', 'celsius'))\n",
    "            break"
   ]
  },
  {
   "cell_type": "markdown",
   "metadata": {},
   "source": [
    "\n",
    "# Ejercicio 2: Formateando Cadenas"
   ]
  },
  {
   "cell_type": "code",
   "execution_count": 11,
   "metadata": {},
   "outputs": [
    {
     "name": "stdout",
     "output_type": "stream",
     "text": [
      "Datos De Gravedad Moon \n",
      "\n",
      "Nombre del planeta: Earth \n",
      "Gravedad en Moon: 1.6199999999999999 m\n",
      " \n",
      "\n",
      "Datos De Gravedad Moon \n",
      "\n",
      "Nombre del planeta: Earth \n",
      "Gravedad en Moon: 1.6199999999999999 m\n",
      " \n",
      "\n",
      "\n",
      "Datos sobre Marte \n",
      "gravedad: 0.00143 \n",
      "Gravedad en Ganímedes: 0.00143\n",
      "\n",
      "\n",
      "Datos sobre Marte \n",
      "gravedad: 1.4300000000000002 \n",
      "Gravedad en Ganímedes: 1.4300000000000002\n",
      "\n"
     ]
    }
   ],
   "source": [
    "# Datos con los que vas a trabajar\n",
    "name = \"Moon\"\n",
    "gravity = 0.00162 # in kms\n",
    "planet = \"Earth\"\n",
    "# Creamos el título\n",
    "titulo = f\"datos de gravedad {name}\"\n",
    "#plantilla\n",
    "plantilla = f\"\"\"\n",
    "Nombre del planeta: {planet} \n",
    "Gravedad en {name}: {gravity * 1000} m\n",
    "\"\"\"\n",
    "#union de cadenas\n",
    "union = f\"\"\"{titulo.title()} \n",
    "{plantilla} \n",
    "\"\"\" \n",
    "print(union)\n",
    "\n",
    "#Datos muestra:\n",
    "planeta = 'Marte '\n",
    "gravedad  = 0.00143\n",
    "nombre = 'Ganímedes'\n",
    "# Comprueba la plantilla\n",
    "print(union)\n",
    "# Nueva plantilla \n",
    "nuevaPlantilla = \"\"\"\n",
    "Datos sobre {planeta}\n",
    "gravedad: {gravedad} \n",
    "Gravedad en {nombre}: {gravedad}\n",
    "\"\"\"\n",
    "print(nuevaPlantilla.format(nombre=nombre, planeta=planeta, gravedad=gravedad))\n",
    "\n",
    "print(nuevaPlantilla.format(nombre=nombre, planeta=planeta, gravedad=gravedad*1000))"
   ]
  }
 ],
 "metadata": {
  "interpreter": {
   "hash": "0e6a929ee0e80078295df8e5f36f1f50a9bb53e16ae7f6f07310e20e80adb355"
  },
  "kernelspec": {
   "display_name": "Python 3.9.5 ('base')",
   "language": "python",
   "name": "python3"
  },
  "language_info": {
   "codemirror_mode": {
    "name": "ipython",
    "version": 3
   },
   "file_extension": ".py",
   "mimetype": "text/x-python",
   "name": "python",
   "nbconvert_exporter": "python",
   "pygments_lexer": "ipython3",
   "version": "3.9.5"
  },
  "orig_nbformat": 4
 },
 "nbformat": 4,
 "nbformat_minor": 2
}
