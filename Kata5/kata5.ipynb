{
 "cells": [
  {
   "cell_type": "markdown",
   "metadata": {},
   "source": [
    "# Utilizar operadores aritméticos"
   ]
  },
  {
   "cell_type": "code",
   "execution_count": 3,
   "metadata": {},
   "outputs": [
    {
     "name": "stdout",
     "output_type": "stream",
     "text": [
      "distancia entre planetas: 628949330 en km\n",
      "distancia entre planetas: 390577533.93 en m\n"
     ]
    }
   ],
   "source": [
    "Dtierra=149597870\n",
    "DJupiter=778547200\n",
    "Dentre=DJupiter-Dtierra\n",
    "print(\"distancia entre planetas: \"+ str(Dentre)+\" en km\")\n",
    "Dentre=(DJupiter-Dtierra)*.621\n",
    "print(\"distancia entre planetas: \"+ str(Dentre)+\" en millas\")"
   ]
  },
  {
   "cell_type": "markdown",
   "metadata": {},
   "source": [
    "\n",
    "# Ejercicio 2: convierte cadenas en números y usa valores absolutos"
   ]
  },
  {
   "cell_type": "code",
   "execution_count": 10,
   "metadata": {},
   "outputs": [
    {
     "name": "stdout",
     "output_type": "stream",
     "text": [
      "la distancia en millas es: 42 Distancia en km: 26.082\n"
     ]
    }
   ],
   "source": [
    "#almacenar entradas usuario\n",
    "planetaa=input(\"introduza distancia planeta a\")\n",
    "planetab=input(\"introduza distancia planeta b\")\n",
    "#Convierte cadenas en numero\n",
    "planetaa_int=int(planetaa)\n",
    "planetab_int=int(planetab)\n",
    "#Volver valor a absulito\n",
    "distancia=abs(planetab_int-planetaa_int)\n",
    "#convertir a millas\n",
    "distnaciakm=distancia*.621\n",
    "#imprimir valor\n",
    "print(\"la distancia en millas es: \"+str(distancia)+\" Distancia en km: \"+str(distnaciakm))\n"
   ]
  }
 ],
 "metadata": {
  "interpreter": {
   "hash": "0e6a929ee0e80078295df8e5f36f1f50a9bb53e16ae7f6f07310e20e80adb355"
  },
  "kernelspec": {
   "display_name": "Python 3.9.5 ('base')",
   "language": "python",
   "name": "python3"
  },
  "language_info": {
   "codemirror_mode": {
    "name": "ipython",
    "version": 3
   },
   "file_extension": ".py",
   "mimetype": "text/x-python",
   "name": "python",
   "nbconvert_exporter": "python",
   "pygments_lexer": "ipython3",
   "version": "3.9.5"
  },
  "orig_nbformat": 4
 },
 "nbformat": 4,
 "nbformat_minor": 2
}
