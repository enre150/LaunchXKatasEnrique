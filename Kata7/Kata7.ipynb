{
 "cells": [
  {
   "cell_type": "markdown",
   "metadata": {},
   "source": [
    "# Ejercicio 1: Creación de un bucle \"while\""
   ]
  },
  {
   "cell_type": "code",
   "execution_count": 16,
   "metadata": {},
   "outputs": [
    {
     "name": "stdout",
     "output_type": "stream",
     "text": [
      "planetas actuales:  ['mercurio']\n",
      "planetas actuales:  ['mercurio', 'venus']\n",
      "planetas actuales:  ['mercurio', 'venus', 'tierra']\n",
      "planetas actuales:  ['mercurio', 'venus', 'tierra']\n"
     ]
    }
   ],
   "source": [
    "# Declara dos variables\n",
    "planets=[]\n",
    "new_planet=\"planeta\"\n",
    "# Escribe el ciclo while solicitado\n",
    "while new_planet!=\"done\":\n",
    "    new_planet=input(\"Inserte el planeta si quiere terminar el programa escriba done\")\n",
    "    if new_planet!=\"done\":\n",
    "        planets.append(new_planet)\n",
    "    print(\"planetas actuales: \",planets)\n"
   ]
  },
  {
   "cell_type": "markdown",
   "metadata": {},
   "source": [
    "# Ejercicio 2: Creación de un ciclo \"for\""
   ]
  },
  {
   "cell_type": "code",
   "execution_count": 17,
   "metadata": {},
   "outputs": [
    {
     "name": "stdout",
     "output_type": "stream",
     "text": [
      "mercurio\n",
      "venus\n",
      "tierra\n"
     ]
    }
   ],
   "source": [
    "# Escribe tu ciclo for para iterar en una lista de planetas\n",
    "for planet in planets:\n",
    "    print(planet)  \n"
   ]
  }
 ],
 "metadata": {
  "interpreter": {
   "hash": "0e6a929ee0e80078295df8e5f36f1f50a9bb53e16ae7f6f07310e20e80adb355"
  },
  "kernelspec": {
   "display_name": "Python 3.9.5 ('base')",
   "language": "python",
   "name": "python3"
  },
  "language_info": {
   "codemirror_mode": {
    "name": "ipython",
    "version": 3
   },
   "file_extension": ".py",
   "mimetype": "text/x-python",
   "name": "python",
   "nbconvert_exporter": "python",
   "pygments_lexer": "ipython3",
   "version": "3.9.5"
  },
  "orig_nbformat": 4
 },
 "nbformat": 4,
 "nbformat_minor": 2
}
