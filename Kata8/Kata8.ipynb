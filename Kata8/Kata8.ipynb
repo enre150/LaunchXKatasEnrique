{
 "cells": [
  {
   "cell_type": "markdown",
   "metadata": {},
   "source": [
    "# Ejercicio 1: Creación de diccionarios de Python"
   ]
  },
  {
   "cell_type": "code",
   "execution_count": 16,
   "metadata": {},
   "outputs": [
    {
     "name": "stdout",
     "output_type": "stream",
     "text": [
      "name: Mars\n",
      "number: 2\n",
      "Mars\n",
      "6752\n"
     ]
    }
   ],
   "source": [
    "# Crea un diccionario llamado planet con los datos propuestos\n",
    "planet={\"name\":\"Mars\",\"number\":2}\n",
    "# Muestra el nombre del planeta y el número de lunas que tiene.\n",
    "for key in planet.keys():\n",
    "    print(f'{key}: {planet[key]}')\n",
    "# Agrega la clave circunferencia con los datos proporcionados previamente\n",
    "planet[\"polar\"]=6752\n",
    "planet[\"equatorial\"]=6792\n",
    "print(planet[\"name\"])\n",
    "print(planet[\"polar\"])\n"
   ]
  },
  {
   "cell_type": "markdown",
   "metadata": {},
   "source": [
    "# Ejercicio 2: Programación dinámica con diccionarios"
   ]
  },
  {
   "cell_type": "code",
   "execution_count": 2,
   "metadata": {},
   "outputs": [
    {
     "name": "stdout",
     "output_type": "stream",
     "text": [
      "17.833333333333332\n"
     ]
    }
   ],
   "source": [
    "# Planets and moons\n",
    "planet_moons = {\n",
    "    'mercury': 0,\n",
    "    'venus': 0,\n",
    "    'earth': 1,\n",
    "    'mars': 2,\n",
    "    'jupiter': 79,\n",
    "    'saturn': 82,\n",
    "    'uranus': 27,\n",
    "    'neptune': 14,\n",
    "    'pluto': 5,\n",
    "    'haumea': 2,\n",
    "    'makemake': 1,\n",
    "    'eris': 1\n",
    "}\n",
    "# Añade el código para determinar el número de lunas.\n",
    "moons=planet_moons.values()\n",
    "planets=len(planet_moons.keys())\n",
    "# Agrega el código para contar el número de lunas. \n",
    "total_moons=0\n",
    "for moon in moons:\n",
    "    total_moons=total_moons+moon\n",
    "promedio=total_moons/planets\n",
    "print(promedio)\n",
    "\n",
    "\n"
   ]
  }
 ],
 "metadata": {
  "interpreter": {
   "hash": "0e6a929ee0e80078295df8e5f36f1f50a9bb53e16ae7f6f07310e20e80adb355"
  },
  "kernelspec": {
   "display_name": "Python 3.9.5 ('base')",
   "language": "python",
   "name": "python3"
  },
  "language_info": {
   "codemirror_mode": {
    "name": "ipython",
    "version": 3
   },
   "file_extension": ".py",
   "mimetype": "text/x-python",
   "name": "python",
   "nbconvert_exporter": "python",
   "pygments_lexer": "ipython3",
   "version": "3.9.5"
  },
  "orig_nbformat": 4
 },
 "nbformat": 4,
 "nbformat_minor": 2
}
