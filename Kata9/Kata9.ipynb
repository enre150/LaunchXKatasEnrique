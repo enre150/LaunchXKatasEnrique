{
 "cells": [
  {
   "cell_type": "markdown",
   "metadata": {},
   "source": [
    "# Ejercicio 1: Trabajar con argumentos en funciones"
   ]
  },
  {
   "cell_type": "code",
   "execution_count": 11,
   "metadata": {},
   "outputs": [
    {
     "name": "stdout",
     "output_type": "stream",
     "text": [
      "2.0\n"
     ]
    },
    {
     "data": {
      "text/plain": [
       "45.666666666666664"
      ]
     },
     "execution_count": 11,
     "metadata": {},
     "output_type": "execute_result"
    }
   ],
   "source": [
    "# Función para leer 3 tanques de combustible y muestre el promedio\n",
    "def reporte(combustible1, combustible2, combustible3):\n",
    "    total=(combustible1+combustible2+combustible3)/3\n",
    "    return total\n",
    "# Llamamos a la función que genera el reporte print(funcion(tanque1, tanque2, tanque3))\n",
    "print(reporte(1,2,3))\n",
    "# Función promedio \n",
    "def promedio(x,y,z):\n",
    "    tot=x+y+z\n",
    "    promedio=tot/3\n",
    "    return promedio\n",
    "# Actualiza la función\n",
    "def reporte(combustible1, combustible2, combustible3):\n",
    "    return promedio(combustible1,combustible2,combustible3)\n",
    "reporte(22,30,85)\n",
    "    "
   ]
  },
  {
   "cell_type": "markdown",
   "metadata": {},
   "source": [
    "# Ejercicio 2: Trabajo con argumentos de palabra clave"
   ]
  },
  {
   "cell_type": "code",
   "execution_count": 45,
   "metadata": {},
   "outputs": [
    {
     "name": "stdout",
     "output_type": "stream",
     "text": [
      "\n",
      "     destino: Tierra\n",
      "     minutos (100, 50, 23)\n",
      "     tanque: {'tq1': 50, 'tq2': 65}\n",
      "\n",
      "         cobustible:\n",
      "         tq1:50\n",
      "         \n",
      "\n",
      "         cobustible:\n",
      "         tq2:65\n",
      "         \n"
     ]
    }
   ],
   "source": [
    "# Función con un informe preciso de la misión. Considera hora de prelanzamiento, tiempo de vuelo, destino, tanque externo y tanque interno\n",
    "from datetime import datetime, timedelta\n",
    "def informe(hrprelanzamient,timevuelo,destino,tqext,tqint):\n",
    "    return(f\"\"\"\n",
    "    Tiempo de vuelo: {timevuelo+hrprelanzamient}\n",
    "    destino: {destino}\n",
    "    tanque exterior: {tqext}\n",
    "    tanque interior: {tqint}\n",
    "    tanque total: {tqext+tqint}\n",
    "    \"\"\")\n",
    "informe(80,60,\"tierra\",100,50)\n",
    "\n",
    " #Escribe tu nueva función de reporte considerando lo anterior\n",
    "def informe(destino,*minutes,**fuel_reservoirs):\n",
    "     return(f\"\"\"\n",
    "     destino: {destino}\n",
    "     minutos {minutes}\n",
    "     tanque: {fuel_reservoirs}\"\"\")\n",
    "informe(\"Tierra\",100, 50, 23, tq1=50,tq2=65)\n",
    "\n",
    "# Escribe tu nueva función\n",
    "def informe(destino,*minutes,**fuel_reservoirs):\n",
    "     print(f\"\"\"\n",
    "     destino: {destino}\n",
    "     minutos {minutes}\n",
    "     tanque: {fuel_reservoirs}\"\"\")\n",
    "     for nombretanques, galones in fuel_reservoirs.items():\n",
    "         print(f\"\"\"\n",
    "         cobustible\n",
    "         {nombretanques}:{galones}\n",
    "         \"\"\")\n",
    "\n",
    "informe(\"Tierra\",100, 50, 23, tq1=50,tq2=65)\n",
    "\n"
   ]
  }
 ],
 "metadata": {
  "interpreter": {
   "hash": "0e6a929ee0e80078295df8e5f36f1f50a9bb53e16ae7f6f07310e20e80adb355"
  },
  "kernelspec": {
   "display_name": "Python 3.9.5 ('base')",
   "language": "python",
   "name": "python3"
  },
  "language_info": {
   "codemirror_mode": {
    "name": "ipython",
    "version": 3
   },
   "file_extension": ".py",
   "mimetype": "text/x-python",
   "name": "python",
   "nbconvert_exporter": "python",
   "pygments_lexer": "ipython3",
   "version": "3.9.5"
  },
  "orig_nbformat": 4
 },
 "nbformat": 4,
 "nbformat_minor": 2
}
